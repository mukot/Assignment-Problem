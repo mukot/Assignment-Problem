{
 "cells": [
  {
   "cell_type": "markdown",
   "id": "871e2c98",
   "metadata": {},
   "source": [
    "# Swimmer Assignment Problem\n",
    "\n",
    "This notebook solves an assignment problem (problem 8.4-2, Introduction to operations research / Frederick S. Hillier, Gerald J. Lieberman.—9th ed) for a swim relay team. The objective is to assign four swimmers to four different strokes (Backstroke, Breaststroke, Butterfly, Freestyle) in a way that minimizes the total relay time, given each swimmer's time for each stroke.\n",
    "\n",
    "The solution used the **Hungarian Algorithm** to determine the optimal assignment.\n",
    "\n",
    "---\n",
    "\n",
    "## Problem Description\n",
    "\n",
    "The coach of a swim team needs to assign swimmers to a 200-yard medley relay team for the Junior Olympics. Each swimmer has recorded their best times (in seconds) for each stroke, as shown in the table below.\n",
    "\n",
    "The times (in seconds) for each swimmer and stroke are as follows:\n",
    "\n",
    "| Stroke      | Carl | Chris | David | Tony | Ken  |\n",
    "|-------------|------|-------|-------|------|------|\n",
    "| Backstroke  | 37.7 | 32.9  | 33.8  | 37.0 | 35.4 |\n",
    "| Breaststroke| 43.4 | 33.1  | 42.2  | 34.7 | 41.8 |\n",
    "| Butterfly   | 33.3 | 28.5  | 38.9  | 30.4 | 33.6 |\n",
    "| Freestyle   | 29.2 | 26.4  | 29.6  | 28.5 | 31.1 |\n",
    "\n",
    "Since only four swimmers are required, the goal is to assign the best combination to achieve the minimum total time for the relay team.\n",
    "\n",
    "---\n",
    "\n",
    "## Solution Approach\n",
    "\n",
    "This problem was formulated as an assignment problem, where:\n",
    "- **Swimmers** are the agents, and **strokes** are the tasks.\n",
    "- Then an optimal way to assign four out of the five swimmers to the four strokes was determined.\n",
    "\n",
    "---\n",
    "## Explanations of the solution approach\n",
    "\n",
    "**Formulate the Cost Matrix**\n",
    "  - The Cost Matrix is the matrix where each entry represents the time a swimmer takes for a specific stroke.\n",
    "  \n",
    "  \n",
    "**Loop over possible exclusions among the swimmers**\n",
    " - Since five swimmers are to be assigned to only four strokes,one swimmer will be excluded in each iteration by removing their column from the matrix.\n",
    " \n",
    "  \n",
    "**Apply the Hungarian Algorithm (using `scipy.optimize.linear_sum_assignment`)**\n",
    "  - For each reduced matrix (excluding one swimmer),the Hungarian algorithm was applied to find the minimum assignment.\n",
    "  - This algorithm gives us the optimal assignment for each swimmer-stroke configuration.\n",
    " \n",
    " \n",
    "**Find Minimum Cost**:\n",
    "  - After calculating the total time for each configuration, we then compared it to find the minimum."
   ]
  },
  {
   "cell_type": "code",
   "execution_count": 13,
   "id": "0a4ba589",
   "metadata": {},
   "outputs": [],
   "source": [
    "# Import necessary libraries\n",
    "import numpy as np\n",
    "from scipy.optimize import linear_sum_assignment\n"
   ]
  },
  {
   "cell_type": "code",
   "execution_count": 14,
   "id": "9c1c41e3",
   "metadata": {},
   "outputs": [
    {
     "name": "stdout",
     "output_type": "stream",
     "text": [
      "Cost Matrix (Swimmer Times for Each Stroke):\n",
      "[[37.7 32.9 33.8 37.  35.4]\n",
      " [43.4 33.1 42.2 34.7 41.8]\n",
      " [33.3 28.5 38.9 30.4 33.6]\n",
      " [29.2 26.4 29.6 28.5 31.1]]\n"
     ]
    }
   ],
   "source": [
    "# Define the cost matrix (times for each swimmer-stroke combination)\n",
    "# Rows represent strokes and columns represent swimmers\n",
    "cost_matrix = np.array([\n",
    "    [37.7, 32.9, 33.8, 37.0, 35.4],  # Backstroke\n",
    "    [43.4, 33.1, 42.2, 34.7, 41.8],  # Breaststroke\n",
    "    [33.3, 28.5, 38.9, 30.4, 33.6],  # Butterfly\n",
    "    [29.2, 26.4, 29.6, 28.5, 31.1],  # Freestyle\n",
    "])\n",
    "\n",
    "# Display the cost matrix\n",
    "print(\"Cost Matrix (Swimmer Times for Each Stroke):\")\n",
    "print(cost_matrix)\n"
   ]
  },
  {
   "cell_type": "code",
   "execution_count": 16,
   "id": "dc81ea19",
   "metadata": {},
   "outputs": [
    {
     "data": {
      "text/plain": [
       "(126.2, array([2, 3, 1, 0], dtype=int64), array([0, 1, 2, 3]))"
      ]
     },
     "execution_count": 16,
     "metadata": {},
     "output_type": "execute_result"
    }
   ],
   "source": [
    "# Initialize variables to store the minimum cost and best assignment configuration\n",
    "min_cost = float(\"inf\")\n",
    "best_assignment = None\n",
    "best_swimmer_indices = None\n",
    "\n",
    "# Loop through each swimmer, excluding one at a time\n",
    "for i in range(cost_matrix.shape[1]):\n",
    "    # Create a reduced matrix by removing the i-th swimmer\n",
    "    reduced_matrix = np.delete(cost_matrix, i, axis=1)\n",
    "    \n",
    "    # Apply the Hungarian algorithm to find the optimal assignment for the reduced matrix\n",
    "    row_indices, col_indices = linear_sum_assignment(reduced_matrix)\n",
    "    cost = reduced_matrix[row_indices, col_indices].sum()\n",
    "    \n",
    "    # Update if this configuration has a lower cost\n",
    "    if cost < min_cost:\n",
    "        min_cost = cost\n",
    "        best_assignment = col_indices\n",
    "        best_swimmer_indices = np.delete(np.arange(cost_matrix.shape[1]), i)\n",
    "\n",
    "min_cost, best_assignment, best_swimmer_indices\n"
   ]
  },
  {
   "cell_type": "code",
   "execution_count": 17,
   "id": "6c40f820",
   "metadata": {},
   "outputs": [
    {
     "name": "stdout",
     "output_type": "stream",
     "text": [
      "\n",
      "Minimum Total Time: 126.2 seconds\n",
      "Best Assignment (Stroke -> Swimmer):\n",
      "Backstroke: David\n",
      "Breaststroke: Tony\n",
      "Butterfly: Chris\n",
      "Freestyle: Carl\n",
      "\n",
      "Excluded Swimmer: Ken\n"
     ]
    }
   ],
   "source": [
    "# Display the optimal assignment results\n",
    "print(f\"\\nMinimum Total Time: {min_cost} seconds\")\n",
    "print(\"Best Assignment (Stroke -> Swimmer):\")\n",
    "\n",
    "# Stroke and swimmer names for reference\n",
    "strokes = [\"Backstroke\", \"Breaststroke\", \"Butterfly\", \"Freestyle\"]\n",
    "swimmers = [\"Carl\", \"Chris\", \"David\", \"Tony\", \"Ken\"]\n",
    "\n",
    "# Display each stroke's best swimmer assignment\n",
    "for stroke, swimmer_index in zip(strokes, best_swimmer_indices[best_assignment]):\n",
    "    print(f\"{stroke}: {swimmers[swimmer_index]}\")\n",
    "    \n",
    "# Identify the excluded swimmer\n",
    "excluded_swimmer = list(set(range(5)) - set(best_swimmer_indices))[0]\n",
    "print(f\"\\nExcluded Swimmer: {swimmers[excluded_swimmer]}\")\n"
   ]
  },
  {
   "cell_type": "markdown",
   "id": "9fbfbaca",
   "metadata": {},
   "source": [
    "## Results\n",
    "\n",
    "The optimal swimmer-stroke assignment achieves a minimum total time of **126.2 seconds**. This configuration is outlined below:\n",
    "\n",
    "| Stroke      | Assigned to |\n",
    "|:-------------|:-------------|\n",
    "| Backstroke  | David| \n",
    "| Breaststroke| Tony| \n",
    "| Butterfly   | Chris|\n",
    "| Freestyle   | Carl| \n",
    "| **Ken was excluded in the assignment**|"
   ]
  },
  {
   "cell_type": "code",
   "execution_count": null,
   "id": "491dfee9",
   "metadata": {},
   "outputs": [],
   "source": []
  }
 ],
 "metadata": {
  "kernelspec": {
   "display_name": "Python 3 (ipykernel)",
   "language": "python",
   "name": "python3"
  },
  "language_info": {
   "codemirror_mode": {
    "name": "ipython",
    "version": 3
   },
   "file_extension": ".py",
   "mimetype": "text/x-python",
   "name": "python",
   "nbconvert_exporter": "python",
   "pygments_lexer": "ipython3",
   "version": "3.11.4"
  }
 },
 "nbformat": 4,
 "nbformat_minor": 5
}
